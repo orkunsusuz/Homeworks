{
 "cells": [
  {
   "cell_type": "code",
   "execution_count": 1,
   "id": "focused-breath",
   "metadata": {},
   "outputs": [],
   "source": [
    "import pandas as pd\n",
    "import numpy as np\n",
    "import statsmodels.api as sm\n",
    "from sklearn.model_selection import train_test_split\n",
    "import matplotlib.pyplot as plt"
   ]
  },
  {
   "cell_type": "code",
   "execution_count": 2,
   "id": "armed-department",
   "metadata": {},
   "outputs": [],
   "source": [
    "dataset = pd.read_csv('C:/Users/ESUSORK/Desktop/EuropeanSales.csv')"
   ]
  },
  {
   "cell_type": "code",
   "execution_count": 3,
   "id": "accessory-circle",
   "metadata": {},
   "outputs": [
    {
     "data": {
      "text/plain": [
       "Index(['Country', 'Population', 'GDPperHead', 'UnemploymentRate',\n",
       "       'EducationSpending', 'SalesPerCapita', 'ComputerSales'],\n",
       "      dtype='object')"
      ]
     },
     "execution_count": 3,
     "metadata": {},
     "output_type": "execute_result"
    }
   ],
   "source": [
    "# Columns of dataset\n",
    "dataset.columns"
   ]
  },
  {
   "cell_type": "code",
   "execution_count": 4,
   "id": "casual-undergraduate",
   "metadata": {},
   "outputs": [
    {
     "data": {
      "text/html": [
       "<div>\n",
       "<style scoped>\n",
       "    .dataframe tbody tr th:only-of-type {\n",
       "        vertical-align: middle;\n",
       "    }\n",
       "\n",
       "    .dataframe tbody tr th {\n",
       "        vertical-align: top;\n",
       "    }\n",
       "\n",
       "    .dataframe thead th {\n",
       "        text-align: right;\n",
       "    }\n",
       "</style>\n",
       "<table border=\"1\" class=\"dataframe\">\n",
       "  <thead>\n",
       "    <tr style=\"text-align: right;\">\n",
       "      <th></th>\n",
       "      <th>Country</th>\n",
       "      <th>Population</th>\n",
       "      <th>GDPperHead</th>\n",
       "      <th>UnemploymentRate</th>\n",
       "      <th>EducationSpending</th>\n",
       "      <th>SalesPerCapita</th>\n",
       "      <th>ComputerSales</th>\n",
       "    </tr>\n",
       "  </thead>\n",
       "  <tbody>\n",
       "    <tr>\n",
       "      <th>0</th>\n",
       "      <td>Austria</td>\n",
       "      <td>8.4</td>\n",
       "      <td>49.60</td>\n",
       "      <td>4.2</td>\n",
       "      <td>5.8</td>\n",
       "      <td>112</td>\n",
       "      <td>941</td>\n",
       "    </tr>\n",
       "    <tr>\n",
       "      <th>1</th>\n",
       "      <td>Belgium</td>\n",
       "      <td>10.5</td>\n",
       "      <td>47.09</td>\n",
       "      <td>8.1</td>\n",
       "      <td>5.9</td>\n",
       "      <td>160</td>\n",
       "      <td>1682</td>\n",
       "    </tr>\n",
       "    <tr>\n",
       "      <th>2</th>\n",
       "      <td>Bulgaria</td>\n",
       "      <td>7.6</td>\n",
       "      <td>6.55</td>\n",
       "      <td>13.5</td>\n",
       "      <td>3.5</td>\n",
       "      <td>20</td>\n",
       "      <td>154</td>\n",
       "    </tr>\n",
       "    <tr>\n",
       "      <th>3</th>\n",
       "      <td>Czech Rep.</td>\n",
       "      <td>10.2</td>\n",
       "      <td>20.67</td>\n",
       "      <td>6.6</td>\n",
       "      <td>4.4</td>\n",
       "      <td>101</td>\n",
       "      <td>1029</td>\n",
       "    </tr>\n",
       "    <tr>\n",
       "      <th>4</th>\n",
       "      <td>Denmark</td>\n",
       "      <td>5.5</td>\n",
       "      <td>62.12</td>\n",
       "      <td>5.2</td>\n",
       "      <td>8.4</td>\n",
       "      <td>170</td>\n",
       "      <td>935</td>\n",
       "    </tr>\n",
       "  </tbody>\n",
       "</table>\n",
       "</div>"
      ],
      "text/plain": [
       "      Country  Population  GDPperHead  UnemploymentRate  EducationSpending  \\\n",
       "0     Austria         8.4       49.60               4.2                5.8   \n",
       "1     Belgium        10.5       47.09               8.1                5.9   \n",
       "2    Bulgaria         7.6        6.55              13.5                3.5   \n",
       "3  Czech Rep.        10.2       20.67               6.6                4.4   \n",
       "4     Denmark         5.5       62.12               5.2                8.4   \n",
       "\n",
       "   SalesPerCapita  ComputerSales  \n",
       "0             112            941  \n",
       "1             160           1682  \n",
       "2              20            154  \n",
       "3             101           1029  \n",
       "4             170            935  "
      ]
     },
     "execution_count": 4,
     "metadata": {},
     "output_type": "execute_result"
    }
   ],
   "source": [
    "# Sample of dataset\n",
    "dataset.head()"
   ]
  },
  {
   "cell_type": "code",
   "execution_count": 5,
   "id": "binding-standing",
   "metadata": {},
   "outputs": [
    {
     "name": "stdout",
     "output_type": "stream",
     "text": [
      "<class 'pandas.core.frame.DataFrame'>\n",
      "RangeIndex: 21 entries, 0 to 20\n",
      "Data columns (total 7 columns):\n",
      " #   Column             Non-Null Count  Dtype  \n",
      "---  ------             --------------  -----  \n",
      " 0   Country            21 non-null     object \n",
      " 1   Population         21 non-null     float64\n",
      " 2   GDPperHead         21 non-null     float64\n",
      " 3   UnemploymentRate   21 non-null     float64\n",
      " 4   EducationSpending  21 non-null     float64\n",
      " 5   SalesPerCapita     21 non-null     int64  \n",
      " 6   ComputerSales      21 non-null     int64  \n",
      "dtypes: float64(4), int64(2), object(1)\n",
      "memory usage: 1.3+ KB\n"
     ]
    }
   ],
   "source": [
    "# General dataset information\n",
    "dataset.info()"
   ]
  },
  {
   "cell_type": "code",
   "execution_count": 6,
   "id": "straight-matthew",
   "metadata": {},
   "outputs": [
    {
     "data": {
      "text/html": [
       "<div>\n",
       "<style scoped>\n",
       "    .dataframe tbody tr th:only-of-type {\n",
       "        vertical-align: middle;\n",
       "    }\n",
       "\n",
       "    .dataframe tbody tr th {\n",
       "        vertical-align: top;\n",
       "    }\n",
       "\n",
       "    .dataframe thead th {\n",
       "        text-align: right;\n",
       "    }\n",
       "</style>\n",
       "<table border=\"1\" class=\"dataframe\">\n",
       "  <thead>\n",
       "    <tr style=\"text-align: right;\">\n",
       "      <th></th>\n",
       "      <th>Population</th>\n",
       "      <th>GDPperHead</th>\n",
       "      <th>UnemploymentRate</th>\n",
       "      <th>EducationSpending</th>\n",
       "      <th>SalesPerCapita</th>\n",
       "      <th>ComputerSales</th>\n",
       "    </tr>\n",
       "  </thead>\n",
       "  <tbody>\n",
       "    <tr>\n",
       "      <th>count</th>\n",
       "      <td>21.000000</td>\n",
       "      <td>21.000000</td>\n",
       "      <td>21.000000</td>\n",
       "      <td>21.000000</td>\n",
       "      <td>21.000000</td>\n",
       "      <td>21.000000</td>\n",
       "    </tr>\n",
       "    <tr>\n",
       "      <th>mean</th>\n",
       "      <td>26.723810</td>\n",
       "      <td>36.973810</td>\n",
       "      <td>8.100000</td>\n",
       "      <td>5.180952</td>\n",
       "      <td>115.333333</td>\n",
       "      <td>2492.809524</td>\n",
       "    </tr>\n",
       "    <tr>\n",
       "      <th>std</th>\n",
       "      <td>26.128929</td>\n",
       "      <td>18.654496</td>\n",
       "      <td>3.122979</td>\n",
       "      <td>1.269889</td>\n",
       "      <td>78.970459</td>\n",
       "      <td>2499.807965</td>\n",
       "    </tr>\n",
       "    <tr>\n",
       "      <th>min</th>\n",
       "      <td>4.400000</td>\n",
       "      <td>6.550000</td>\n",
       "      <td>3.600000</td>\n",
       "      <td>3.300000</td>\n",
       "      <td>20.000000</td>\n",
       "      <td>154.000000</td>\n",
       "    </tr>\n",
       "    <tr>\n",
       "      <th>25%</th>\n",
       "      <td>8.400000</td>\n",
       "      <td>20.670000</td>\n",
       "      <td>6.300000</td>\n",
       "      <td>4.400000</td>\n",
       "      <td>68.000000</td>\n",
       "      <td>813.000000</td>\n",
       "    </tr>\n",
       "    <tr>\n",
       "      <th>50%</th>\n",
       "      <td>10.700000</td>\n",
       "      <td>43.540000</td>\n",
       "      <td>7.300000</td>\n",
       "      <td>5.000000</td>\n",
       "      <td>101.000000</td>\n",
       "      <td>1682.000000</td>\n",
       "    </tr>\n",
       "    <tr>\n",
       "      <th>75%</th>\n",
       "      <td>44.800000</td>\n",
       "      <td>51.320000</td>\n",
       "      <td>9.900000</td>\n",
       "      <td>5.800000</td>\n",
       "      <td>151.000000</td>\n",
       "      <td>2879.000000</td>\n",
       "    </tr>\n",
       "    <tr>\n",
       "      <th>max</th>\n",
       "      <td>82.500000</td>\n",
       "      <td>64.430000</td>\n",
       "      <td>14.400000</td>\n",
       "      <td>8.400000</td>\n",
       "      <td>372.000000</td>\n",
       "      <td>9887.000000</td>\n",
       "    </tr>\n",
       "  </tbody>\n",
       "</table>\n",
       "</div>"
      ],
      "text/plain": [
       "       Population  GDPperHead  UnemploymentRate  EducationSpending  \\\n",
       "count   21.000000   21.000000         21.000000          21.000000   \n",
       "mean    26.723810   36.973810          8.100000           5.180952   \n",
       "std     26.128929   18.654496          3.122979           1.269889   \n",
       "min      4.400000    6.550000          3.600000           3.300000   \n",
       "25%      8.400000   20.670000          6.300000           4.400000   \n",
       "50%     10.700000   43.540000          7.300000           5.000000   \n",
       "75%     44.800000   51.320000          9.900000           5.800000   \n",
       "max     82.500000   64.430000         14.400000           8.400000   \n",
       "\n",
       "       SalesPerCapita  ComputerSales  \n",
       "count       21.000000      21.000000  \n",
       "mean       115.333333    2492.809524  \n",
       "std         78.970459    2499.807965  \n",
       "min         20.000000     154.000000  \n",
       "25%         68.000000     813.000000  \n",
       "50%        101.000000    1682.000000  \n",
       "75%        151.000000    2879.000000  \n",
       "max        372.000000    9887.000000  "
      ]
     },
     "execution_count": 6,
     "metadata": {},
     "output_type": "execute_result"
    }
   ],
   "source": [
    "# A brief description of dataset\n",
    "dataset.describe()"
   ]
  },
  {
   "cell_type": "code",
   "execution_count": 7,
   "id": "pending-cologne",
   "metadata": {},
   "outputs": [
    {
     "data": {
      "text/html": [
       "<div>\n",
       "<style scoped>\n",
       "    .dataframe tbody tr th:only-of-type {\n",
       "        vertical-align: middle;\n",
       "    }\n",
       "\n",
       "    .dataframe tbody tr th {\n",
       "        vertical-align: top;\n",
       "    }\n",
       "\n",
       "    .dataframe thead th {\n",
       "        text-align: right;\n",
       "    }\n",
       "</style>\n",
       "<table border=\"1\" class=\"dataframe\">\n",
       "  <thead>\n",
       "    <tr style=\"text-align: right;\">\n",
       "      <th></th>\n",
       "      <th>Population</th>\n",
       "      <th>GDPperHead</th>\n",
       "      <th>UnemploymentRate</th>\n",
       "      <th>EducationSpending</th>\n",
       "      <th>SalesPerCapita</th>\n",
       "      <th>ComputerSales</th>\n",
       "    </tr>\n",
       "  </thead>\n",
       "  <tbody>\n",
       "    <tr>\n",
       "      <th>Population</th>\n",
       "      <td>1.000000</td>\n",
       "      <td>-0.175236</td>\n",
       "      <td>0.321035</td>\n",
       "      <td>-0.292881</td>\n",
       "      <td>-0.298383</td>\n",
       "      <td>0.807971</td>\n",
       "    </tr>\n",
       "    <tr>\n",
       "      <th>GDPperHead</th>\n",
       "      <td>-0.175236</td>\n",
       "      <td>1.000000</td>\n",
       "      <td>-0.502419</td>\n",
       "      <td>0.589111</td>\n",
       "      <td>0.662254</td>\n",
       "      <td>0.151556</td>\n",
       "    </tr>\n",
       "    <tr>\n",
       "      <th>UnemploymentRate</th>\n",
       "      <td>0.321035</td>\n",
       "      <td>-0.502419</td>\n",
       "      <td>1.000000</td>\n",
       "      <td>-0.314309</td>\n",
       "      <td>-0.213605</td>\n",
       "      <td>0.171849</td>\n",
       "    </tr>\n",
       "    <tr>\n",
       "      <th>EducationSpending</th>\n",
       "      <td>-0.292881</td>\n",
       "      <td>0.589111</td>\n",
       "      <td>-0.314309</td>\n",
       "      <td>1.000000</td>\n",
       "      <td>0.612180</td>\n",
       "      <td>-0.052690</td>\n",
       "    </tr>\n",
       "    <tr>\n",
       "      <th>SalesPerCapita</th>\n",
       "      <td>-0.298383</td>\n",
       "      <td>0.662254</td>\n",
       "      <td>-0.213605</td>\n",
       "      <td>0.612180</td>\n",
       "      <td>1.000000</td>\n",
       "      <td>0.081418</td>\n",
       "    </tr>\n",
       "    <tr>\n",
       "      <th>ComputerSales</th>\n",
       "      <td>0.807971</td>\n",
       "      <td>0.151556</td>\n",
       "      <td>0.171849</td>\n",
       "      <td>-0.052690</td>\n",
       "      <td>0.081418</td>\n",
       "      <td>1.000000</td>\n",
       "    </tr>\n",
       "  </tbody>\n",
       "</table>\n",
       "</div>"
      ],
      "text/plain": [
       "                   Population  GDPperHead  UnemploymentRate  \\\n",
       "Population           1.000000   -0.175236          0.321035   \n",
       "GDPperHead          -0.175236    1.000000         -0.502419   \n",
       "UnemploymentRate     0.321035   -0.502419          1.000000   \n",
       "EducationSpending   -0.292881    0.589111         -0.314309   \n",
       "SalesPerCapita      -0.298383    0.662254         -0.213605   \n",
       "ComputerSales        0.807971    0.151556          0.171849   \n",
       "\n",
       "                   EducationSpending  SalesPerCapita  ComputerSales  \n",
       "Population                 -0.292881       -0.298383       0.807971  \n",
       "GDPperHead                  0.589111        0.662254       0.151556  \n",
       "UnemploymentRate           -0.314309       -0.213605       0.171849  \n",
       "EducationSpending           1.000000        0.612180      -0.052690  \n",
       "SalesPerCapita              0.612180        1.000000       0.081418  \n",
       "ComputerSales              -0.052690        0.081418       1.000000  "
      ]
     },
     "execution_count": 7,
     "metadata": {},
     "output_type": "execute_result"
    }
   ],
   "source": [
    "# Correlation between attributes and target variable\n",
    "correlation_matrix = dataset.corr()\n",
    "\n",
    "correlation_matrix "
   ]
  },
  {
   "cell_type": "code",
   "execution_count": 8,
   "id": "fuzzy-education",
   "metadata": {},
   "outputs": [
    {
     "data": {
      "image/png": "[encoded data removed]",
      "text/plain": [
       "<Figure size 288x288 with 1 Axes>"
      ]
     },
     "metadata": {
      "needs_background": "light"
     },
     "output_type": "display_data"
    }
   ],
   "source": [
    "plt.matshow(correlation_matrix)\n",
    "plt.show()"
   ]
  },
  {
   "cell_type": "code",
   "execution_count": 9,
   "id": "eastern-headset",
   "metadata": {},
   "outputs": [],
   "source": [
    "# As we can see SalesPerCapita have >0.5 correlation with GDPperHead and EducationSpending\n",
    "# And ComputerSales have 0.808 correlation with Population"
   ]
  },
  {
   "cell_type": "code",
   "execution_count": 10,
   "id": "accompanied-process",
   "metadata": {},
   "outputs": [],
   "source": [
    "# So we should take a closer look on these columns."
   ]
  },
  {
   "cell_type": "code",
   "execution_count": 11,
   "id": "empty-knowing",
   "metadata": {},
   "outputs": [
    {
     "data": {
      "text/plain": [
       "<AxesSubplot:xlabel='SalesPerCapita'>"
      ]
     },
     "execution_count": 11,
     "metadata": {},
     "output_type": "execute_result"
    },
    {
     "data": {
      "image/png": "[encoded data removed]",
      "text/plain": [
       "<Figure size 432x288 with 1 Axes>"
      ]
     },
     "metadata": {
      "needs_background": "light"
     },
     "output_type": "display_data"
    },
    {
     "data": {
      "image/png": "[encoded data removed]",
      "text/plain": [
       "<Figure size 432x288 with 1 Axes>"
      ]
     },
     "metadata": {
      "needs_background": "light"
     },
     "output_type": "display_data"
    }
   ],
   "source": [
    "dataset.plot(x='SalesPerCapita', y=['GDPperHead'], style=['o'])\n",
    "dataset.plot(x='SalesPerCapita', y=['EducationSpending'], style=['rx'])"
   ]
  },
  {
   "cell_type": "code",
   "execution_count": 12,
   "id": "random-kitchen",
   "metadata": {},
   "outputs": [
    {
     "data": {
      "text/plain": [
       "<AxesSubplot:xlabel='ComputerSales'>"
      ]
     },
     "execution_count": 12,
     "metadata": {},
     "output_type": "execute_result"
    },
    {
     "data": {
      "image/png": "[encoded data removed]",
      "text/plain": [
       "<Figure size 432x288 with 1 Axes>"
      ]
     },
     "metadata": {
      "needs_background": "light"
     },
     "output_type": "display_data"
    }
   ],
   "source": [
    "dataset.plot(x='ComputerSales', y=['Population'], style=['gp'])"
   ]
  },
  {
   "cell_type": "code",
   "execution_count": 13,
   "id": "assumed-wonder",
   "metadata": {},
   "outputs": [],
   "source": [
    "# As we can see, although there are a few outliers, columns linearly correlated."
   ]
  },
  {
   "cell_type": "code",
   "execution_count": 14,
   "id": "appropriate-sheriff",
   "metadata": {},
   "outputs": [],
   "source": [
    "# We will cover two models for each case. \n",
    "# First one is for just to take the strongest correlation columns.\n",
    "# Second one is to take all columns."
   ]
  },
  {
   "cell_type": "code",
   "execution_count": 15,
   "id": "virtual-cleaner",
   "metadata": {},
   "outputs": [],
   "source": [
    "# Target column is SalesPerCapita.\n",
    "\n",
    "y = dataset['SalesPerCapita']\n",
    "X_correlated = dataset.drop(['SalesPerCapita', 'Country', 'Population', 'UnemploymentRate', 'ComputerSales'], axis=1)\n",
    "X_complete = dataset.drop(['SalesPerCapita', 'Country'], axis=1)"
   ]
  },
  {
   "cell_type": "code",
   "execution_count": 16,
   "id": "potential-vaccine",
   "metadata": {
    "scrolled": true
   },
   "outputs": [
    {
     "name": "stderr",
     "output_type": "stream",
     "text": [
      "C:\\Users\\ESUSORK\\PycharmProjects\\Kripto\\venv\\lib\\site-packages\\scipy\\stats\\stats.py:1604: UserWarning: kurtosistest only valid for n>=20 ... continuing anyway, n=16\n",
      "  \"anyway, n=%i\" % int(n))\n"
     ]
    },
    {
     "data": {
      "text/html": [
       "<table class=\"simpletable\">\n",
       "<caption>OLS Regression Results</caption>\n",
       "<tr>\n",
       "  <th>Dep. Variable:</th>     <td>SalesPerCapita</td>  <th>  R-squared (uncentered):</th>      <td>   0.820</td>\n",
       "</tr>\n",
       "<tr>\n",
       "  <th>Model:</th>                   <td>OLS</td>       <th>  Adj. R-squared (uncentered):</th> <td>   0.794</td>\n",
       "</tr>\n",
       "<tr>\n",
       "  <th>Method:</th>             <td>Least Squares</td>  <th>  F-statistic:       </th>          <td>   31.86</td>\n",
       "</tr>\n",
       "<tr>\n",
       "  <th>Date:</th>             <td>Mon, 22 Mar 2021</td> <th>  Prob (F-statistic):</th>          <td>6.15e-06</td>\n",
       "</tr>\n",
       "<tr>\n",
       "  <th>Time:</th>                 <td>21:07:37</td>     <th>  Log-Likelihood:    </th>          <td> -88.630</td>\n",
       "</tr>\n",
       "<tr>\n",
       "  <th>No. Observations:</th>      <td>    16</td>      <th>  AIC:               </th>          <td>   181.3</td>\n",
       "</tr>\n",
       "<tr>\n",
       "  <th>Df Residuals:</th>          <td>    14</td>      <th>  BIC:               </th>          <td>   182.8</td>\n",
       "</tr>\n",
       "<tr>\n",
       "  <th>Df Model:</th>              <td>     2</td>      <th>                     </th>              <td> </td>   \n",
       "</tr>\n",
       "<tr>\n",
       "  <th>Covariance Type:</th>      <td>nonrobust</td>    <th>                     </th>              <td> </td>   \n",
       "</tr>\n",
       "</table>\n",
       "<table class=\"simpletable\">\n",
       "<tr>\n",
       "          <td></td>             <th>coef</th>     <th>std err</th>      <th>t</th>      <th>P>|t|</th>  <th>[0.025</th>    <th>0.975]</th>  \n",
       "</tr>\n",
       "<tr>\n",
       "  <th>GDPperHead</th>        <td>    2.0511</td> <td>    1.070</td> <td>    1.917</td> <td> 0.076</td> <td>   -0.244</td> <td>    4.346</td>\n",
       "</tr>\n",
       "<tr>\n",
       "  <th>EducationSpending</th> <td>    8.5780</td> <td>    8.420</td> <td>    1.019</td> <td> 0.326</td> <td>   -9.481</td> <td>   26.637</td>\n",
       "</tr>\n",
       "</table>\n",
       "<table class=\"simpletable\">\n",
       "<tr>\n",
       "  <th>Omnibus:</th>       <td>30.945</td> <th>  Durbin-Watson:     </th> <td>   2.145</td>\n",
       "</tr>\n",
       "<tr>\n",
       "  <th>Prob(Omnibus):</th> <td> 0.000</td> <th>  Jarque-Bera (JB):  </th> <td>  50.733</td>\n",
       "</tr>\n",
       "<tr>\n",
       "  <th>Skew:</th>          <td> 2.736</td> <th>  Prob(JB):          </th> <td>9.63e-12</td>\n",
       "</tr>\n",
       "<tr>\n",
       "  <th>Kurtosis:</th>      <td> 9.794</td> <th>  Cond. No.          </th> <td>    22.0</td>\n",
       "</tr>\n",
       "</table><br/><br/>Notes:<br/>[1] R² is computed without centering (uncentered) since the model does not contain a constant.<br/>[2] Standard Errors assume that the covariance matrix of the errors is correctly specified."
      ],
      "text/plain": [
       "<class 'statsmodels.iolib.summary.Summary'>\n",
       "\"\"\"\n",
       "                                 OLS Regression Results                                \n",
       "=======================================================================================\n",
       "Dep. Variable:         SalesPerCapita   R-squared (uncentered):                   0.820\n",
       "Model:                            OLS   Adj. R-squared (uncentered):              0.794\n",
       "Method:                 Least Squares   F-statistic:                              31.86\n",
       "Date:                Mon, 22 Mar 2021   Prob (F-statistic):                    6.15e-06\n",
       "Time:                        21:07:37   Log-Likelihood:                         -88.630\n",
       "No. Observations:                  16   AIC:                                      181.3\n",
       "Df Residuals:                      14   BIC:                                      182.8\n",
       "Df Model:                           2                                                  \n",
       "Covariance Type:            nonrobust                                                  \n",
       "=====================================================================================\n",
       "                        coef    std err          t      P>|t|      [0.025      0.975]\n",
       "-------------------------------------------------------------------------------------\n",
       "GDPperHead            2.0511      1.070      1.917      0.076      -0.244       4.346\n",
       "EducationSpending     8.5780      8.420      1.019      0.326      -9.481      26.637\n",
       "==============================================================================\n",
       "Omnibus:                       30.945   Durbin-Watson:                   2.145\n",
       "Prob(Omnibus):                  0.000   Jarque-Bera (JB):               50.733\n",
       "Skew:                           2.736   Prob(JB):                     9.63e-12\n",
       "Kurtosis:                       9.794   Cond. No.                         22.0\n",
       "==============================================================================\n",
       "\n",
       "Notes:\n",
       "[1] R² is computed without centering (uncentered) since the model does not contain a constant.\n",
       "[2] Standard Errors assume that the covariance matrix of the errors is correctly specified.\n",
       "\"\"\""
      ]
     },
     "execution_count": 16,
     "metadata": {},
     "output_type": "execute_result"
    }
   ],
   "source": [
    "# First case which we just create a model with correlated columns\n",
    "\n",
    "X_train, X_test, y_train, y_test = train_test_split(X_correlated, y, test_size=0.20, random_state=0)\n",
    "\n",
    "linear_model_correlated = sm.OLS(y_train, X_train).fit()\n",
    "\n",
    "linear_model_correlated.summary()"
   ]
  },
  {
   "cell_type": "code",
   "execution_count": 17,
   "id": "broadband-commodity",
   "metadata": {},
   "outputs": [
    {
     "name": "stdout",
     "output_type": "stream",
     "text": [
      "rmse_correlated_for_sales_per_capita: 31.378954214128054\n"
     ]
    }
   ],
   "source": [
    "y_pred_correlated = linear_model_correlated.predict(X_test)\n",
    "\n",
    "rmse_correlated = np.sqrt(((y_pred_correlated - y_test) ** 2).mean())\n",
    "\n",
    "print('rmse_correlated_for_sales_per_capita: ' + str(rmse_correlated))"
   ]
  },
  {
   "cell_type": "code",
   "execution_count": 18,
   "id": "happy-rally",
   "metadata": {},
   "outputs": [
    {
     "name": "stderr",
     "output_type": "stream",
     "text": [
      "C:\\Users\\ESUSORK\\PycharmProjects\\Kripto\\venv\\lib\\site-packages\\scipy\\stats\\stats.py:1604: UserWarning: kurtosistest only valid for n>=20 ... continuing anyway, n=16\n",
      "  \"anyway, n=%i\" % int(n))\n"
     ]
    },
    {
     "data": {
      "text/html": [
       "<table class=\"simpletable\">\n",
       "<caption>OLS Regression Results</caption>\n",
       "<tr>\n",
       "  <th>Dep. Variable:</th>     <td>SalesPerCapita</td>  <th>  R-squared (uncentered):</th>      <td>   0.858</td>\n",
       "</tr>\n",
       "<tr>\n",
       "  <th>Model:</th>                   <td>OLS</td>       <th>  Adj. R-squared (uncentered):</th> <td>   0.794</td>\n",
       "</tr>\n",
       "<tr>\n",
       "  <th>Method:</th>             <td>Least Squares</td>  <th>  F-statistic:       </th>          <td>   13.31</td>\n",
       "</tr>\n",
       "<tr>\n",
       "  <th>Date:</th>             <td>Mon, 22 Mar 2021</td> <th>  Prob (F-statistic):</th>          <td>0.000235</td>\n",
       "</tr>\n",
       "<tr>\n",
       "  <th>Time:</th>                 <td>21:07:38</td>     <th>  Log-Likelihood:    </th>          <td> -86.719</td>\n",
       "</tr>\n",
       "<tr>\n",
       "  <th>No. Observations:</th>      <td>    16</td>      <th>  AIC:               </th>          <td>   183.4</td>\n",
       "</tr>\n",
       "<tr>\n",
       "  <th>Df Residuals:</th>          <td>    11</td>      <th>  BIC:               </th>          <td>   187.3</td>\n",
       "</tr>\n",
       "<tr>\n",
       "  <th>Df Model:</th>              <td>     5</td>      <th>                     </th>              <td> </td>   \n",
       "</tr>\n",
       "<tr>\n",
       "  <th>Covariance Type:</th>      <td>nonrobust</td>    <th>                     </th>              <td> </td>   \n",
       "</tr>\n",
       "</table>\n",
       "<table class=\"simpletable\">\n",
       "<tr>\n",
       "          <td></td>             <th>coef</th>     <th>std err</th>      <th>t</th>      <th>P>|t|</th>  <th>[0.025</th>    <th>0.975]</th>  \n",
       "</tr>\n",
       "<tr>\n",
       "  <th>Population</th>        <td>   -2.2868</td> <td>    1.450</td> <td>   -1.577</td> <td> 0.143</td> <td>   -5.478</td> <td>    0.904</td>\n",
       "</tr>\n",
       "<tr>\n",
       "  <th>GDPperHead</th>        <td>    1.4561</td> <td>    1.369</td> <td>    1.063</td> <td> 0.310</td> <td>   -1.558</td> <td>    4.470</td>\n",
       "</tr>\n",
       "<tr>\n",
       "  <th>UnemploymentRate</th>  <td>    2.8256</td> <td>    5.225</td> <td>    0.541</td> <td> 0.599</td> <td>   -8.675</td> <td>   14.326</td>\n",
       "</tr>\n",
       "<tr>\n",
       "  <th>EducationSpending</th> <td>   10.1696</td> <td>   12.667</td> <td>    0.803</td> <td> 0.439</td> <td>  -17.709</td> <td>   38.049</td>\n",
       "</tr>\n",
       "<tr>\n",
       "  <th>ComputerSales</th>     <td>    0.0214</td> <td>    0.021</td> <td>    1.039</td> <td> 0.321</td> <td>   -0.024</td> <td>    0.067</td>\n",
       "</tr>\n",
       "</table>\n",
       "<table class=\"simpletable\">\n",
       "<tr>\n",
       "  <th>Omnibus:</th>       <td>22.090</td> <th>  Durbin-Watson:     </th> <td>   2.737</td>\n",
       "</tr>\n",
       "<tr>\n",
       "  <th>Prob(Omnibus):</th> <td> 0.000</td> <th>  Jarque-Bera (JB):  </th> <td>  24.222</td>\n",
       "</tr>\n",
       "<tr>\n",
       "  <th>Skew:</th>          <td> 2.173</td> <th>  Prob(JB):          </th> <td>5.50e-06</td>\n",
       "</tr>\n",
       "<tr>\n",
       "  <th>Kurtosis:</th>      <td> 7.176</td> <th>  Cond. No.          </th> <td>2.30e+03</td>\n",
       "</tr>\n",
       "</table><br/><br/>Notes:<br/>[1] R² is computed without centering (uncentered) since the model does not contain a constant.<br/>[2] Standard Errors assume that the covariance matrix of the errors is correctly specified.<br/>[3] The condition number is large, 2.3e+03. This might indicate that there are<br/>strong multicollinearity or other numerical problems."
      ],
      "text/plain": [
       "<class 'statsmodels.iolib.summary.Summary'>\n",
       "\"\"\"\n",
       "                                 OLS Regression Results                                \n",
       "=======================================================================================\n",
       "Dep. Variable:         SalesPerCapita   R-squared (uncentered):                   0.858\n",
       "Model:                            OLS   Adj. R-squared (uncentered):              0.794\n",
       "Method:                 Least Squares   F-statistic:                              13.31\n",
       "Date:                Mon, 22 Mar 2021   Prob (F-statistic):                    0.000235\n",
       "Time:                        21:07:38   Log-Likelihood:                         -86.719\n",
       "No. Observations:                  16   AIC:                                      183.4\n",
       "Df Residuals:                      11   BIC:                                      187.3\n",
       "Df Model:                           5                                                  \n",
       "Covariance Type:            nonrobust                                                  \n",
       "=====================================================================================\n",
       "                        coef    std err          t      P>|t|      [0.025      0.975]\n",
       "-------------------------------------------------------------------------------------\n",
       "Population           -2.2868      1.450     -1.577      0.143      -5.478       0.904\n",
       "GDPperHead            1.4561      1.369      1.063      0.310      -1.558       4.470\n",
       "UnemploymentRate      2.8256      5.225      0.541      0.599      -8.675      14.326\n",
       "EducationSpending    10.1696     12.667      0.803      0.439     -17.709      38.049\n",
       "ComputerSales         0.0214      0.021      1.039      0.321      -0.024       0.067\n",
       "==============================================================================\n",
       "Omnibus:                       22.090   Durbin-Watson:                   2.737\n",
       "Prob(Omnibus):                  0.000   Jarque-Bera (JB):               24.222\n",
       "Skew:                           2.173   Prob(JB):                     5.50e-06\n",
       "Kurtosis:                       7.176   Cond. No.                     2.30e+03\n",
       "==============================================================================\n",
       "\n",
       "Notes:\n",
       "[1] R² is computed without centering (uncentered) since the model does not contain a constant.\n",
       "[2] Standard Errors assume that the covariance matrix of the errors is correctly specified.\n",
       "[3] The condition number is large, 2.3e+03. This might indicate that there are\n",
       "strong multicollinearity or other numerical problems.\n",
       "\"\"\""
      ]
     },
     "execution_count": 18,
     "metadata": {},
     "output_type": "execute_result"
    }
   ],
   "source": [
    "# Second case which we just create a model with all columns\n",
    "\n",
    "X_train, X_test, y_train, y_test = train_test_split(X_complete, y, test_size=0.20, random_state=0)\n",
    "\n",
    "linear_model_complete = sm.OLS(y_train, X_train).fit()\n",
    "\n",
    "linear_model_complete.summary()"
   ]
  },
  {
   "cell_type": "code",
   "execution_count": 19,
   "id": "metric-marsh",
   "metadata": {},
   "outputs": [
    {
     "name": "stdout",
     "output_type": "stream",
     "text": [
      "rmse_complete_for_sales_per_capita: 25.083347694023146\n"
     ]
    }
   ],
   "source": [
    "y_pred_complete = linear_model_complete.predict(X_test)\n",
    "\n",
    "rmse_complete = np.sqrt(((y_pred_complete - y_test) ** 2).mean())\n",
    "\n",
    "print('rmse_complete_for_sales_per_capita: ' + str(rmse_complete))"
   ]
  },
  {
   "cell_type": "code",
   "execution_count": 20,
   "id": "alleged-disney",
   "metadata": {},
   "outputs": [],
   "source": [
    "# Target column is ComputerSales.\n",
    "\n",
    "y = dataset['ComputerSales']\n",
    "X_correlated = dataset.drop(['SalesPerCapita', 'Country', 'GDPperHead', 'UnemploymentRate', 'EducationSpending', 'ComputerSales'], axis=1)\n",
    "X_complete = dataset.drop(['ComputerSales', 'Country'], axis=1)"
   ]
  },
  {
   "cell_type": "code",
   "execution_count": 21,
   "id": "reflected-presentation",
   "metadata": {},
   "outputs": [
    {
     "name": "stderr",
     "output_type": "stream",
     "text": [
      "C:\\Users\\ESUSORK\\PycharmProjects\\Kripto\\venv\\lib\\site-packages\\scipy\\stats\\stats.py:1604: UserWarning: kurtosistest only valid for n>=20 ... continuing anyway, n=16\n",
      "  \"anyway, n=%i\" % int(n))\n"
     ]
    },
    {
     "data": {
      "text/html": [
       "<table class=\"simpletable\">\n",
       "<caption>OLS Regression Results</caption>\n",
       "<tr>\n",
       "  <th>Dep. Variable:</th>      <td>ComputerSales</td>  <th>  R-squared (uncentered):</th>      <td>   0.854</td>\n",
       "</tr>\n",
       "<tr>\n",
       "  <th>Model:</th>                   <td>OLS</td>       <th>  Adj. R-squared (uncentered):</th> <td>   0.844</td>\n",
       "</tr>\n",
       "<tr>\n",
       "  <th>Method:</th>             <td>Least Squares</td>  <th>  F-statistic:       </th>          <td>   87.84</td>\n",
       "</tr>\n",
       "<tr>\n",
       "  <th>Date:</th>             <td>Mon, 22 Mar 2021</td> <th>  Prob (F-statistic):</th>          <td>1.16e-07</td>\n",
       "</tr>\n",
       "<tr>\n",
       "  <th>Time:</th>                 <td>21:07:41</td>     <th>  Log-Likelihood:    </th>          <td> -134.66</td>\n",
       "</tr>\n",
       "<tr>\n",
       "  <th>No. Observations:</th>      <td>    16</td>      <th>  AIC:               </th>          <td>   271.3</td>\n",
       "</tr>\n",
       "<tr>\n",
       "  <th>Df Residuals:</th>          <td>    15</td>      <th>  BIC:               </th>          <td>   272.1</td>\n",
       "</tr>\n",
       "<tr>\n",
       "  <th>Df Model:</th>              <td>     1</td>      <th>                     </th>              <td> </td>   \n",
       "</tr>\n",
       "<tr>\n",
       "  <th>Covariance Type:</th>      <td>nonrobust</td>    <th>                     </th>              <td> </td>   \n",
       "</tr>\n",
       "</table>\n",
       "<table class=\"simpletable\">\n",
       "<tr>\n",
       "       <td></td>         <th>coef</th>     <th>std err</th>      <th>t</th>      <th>P>|t|</th>  <th>[0.025</th>    <th>0.975]</th>  \n",
       "</tr>\n",
       "<tr>\n",
       "  <th>Population</th> <td>   75.2788</td> <td>    8.032</td> <td>    9.372</td> <td> 0.000</td> <td>   58.159</td> <td>   92.398</td>\n",
       "</tr>\n",
       "</table>\n",
       "<table class=\"simpletable\">\n",
       "<tr>\n",
       "  <th>Omnibus:</th>       <td>11.705</td> <th>  Durbin-Watson:     </th> <td>   2.293</td>\n",
       "</tr>\n",
       "<tr>\n",
       "  <th>Prob(Omnibus):</th> <td> 0.003</td> <th>  Jarque-Bera (JB):  </th> <td>   8.294</td>\n",
       "</tr>\n",
       "<tr>\n",
       "  <th>Skew:</th>          <td>-1.390</td> <th>  Prob(JB):          </th> <td>  0.0158</td>\n",
       "</tr>\n",
       "<tr>\n",
       "  <th>Kurtosis:</th>      <td> 5.171</td> <th>  Cond. No.          </th> <td>    1.00</td>\n",
       "</tr>\n",
       "</table><br/><br/>Notes:<br/>[1] R² is computed without centering (uncentered) since the model does not contain a constant.<br/>[2] Standard Errors assume that the covariance matrix of the errors is correctly specified."
      ],
      "text/plain": [
       "<class 'statsmodels.iolib.summary.Summary'>\n",
       "\"\"\"\n",
       "                                 OLS Regression Results                                \n",
       "=======================================================================================\n",
       "Dep. Variable:          ComputerSales   R-squared (uncentered):                   0.854\n",
       "Model:                            OLS   Adj. R-squared (uncentered):              0.844\n",
       "Method:                 Least Squares   F-statistic:                              87.84\n",
       "Date:                Mon, 22 Mar 2021   Prob (F-statistic):                    1.16e-07\n",
       "Time:                        21:07:41   Log-Likelihood:                         -134.66\n",
       "No. Observations:                  16   AIC:                                      271.3\n",
       "Df Residuals:                      15   BIC:                                      272.1\n",
       "Df Model:                           1                                                  \n",
       "Covariance Type:            nonrobust                                                  \n",
       "==============================================================================\n",
       "                 coef    std err          t      P>|t|      [0.025      0.975]\n",
       "------------------------------------------------------------------------------\n",
       "Population    75.2788      8.032      9.372      0.000      58.159      92.398\n",
       "==============================================================================\n",
       "Omnibus:                       11.705   Durbin-Watson:                   2.293\n",
       "Prob(Omnibus):                  0.003   Jarque-Bera (JB):                8.294\n",
       "Skew:                          -1.390   Prob(JB):                       0.0158\n",
       "Kurtosis:                       5.171   Cond. No.                         1.00\n",
       "==============================================================================\n",
       "\n",
       "Notes:\n",
       "[1] R² is computed without centering (uncentered) since the model does not contain a constant.\n",
       "[2] Standard Errors assume that the covariance matrix of the errors is correctly specified.\n",
       "\"\"\""
      ]
     },
     "execution_count": 21,
     "metadata": {},
     "output_type": "execute_result"
    }
   ],
   "source": [
    "# First case which we just create a model with correlated columns\n",
    "\n",
    "X_train, X_test, y_train, y_test = train_test_split(X_correlated, y, test_size=0.20, random_state=0)\n",
    "\n",
    "linear_model_correlated = sm.OLS(y_train, X_train).fit()\n",
    "\n",
    "linear_model_correlated.summary()"
   ]
  },
  {
   "cell_type": "code",
   "execution_count": 22,
   "id": "applicable-oregon",
   "metadata": {},
   "outputs": [
    {
     "name": "stdout",
     "output_type": "stream",
     "text": [
      "rmse_correlated_for_computer_sales: 2415.145720056711\n"
     ]
    }
   ],
   "source": [
    "y_pred_correlated = linear_model_correlated.predict(X_test)\n",
    "\n",
    "rmse_correlated = np.sqrt(((y_pred_correlated - y_test) ** 2).mean())\n",
    "\n",
    "print('rmse_correlated_for_computer_sales: ' + str(rmse_correlated))"
   ]
  },
  {
   "cell_type": "code",
   "execution_count": 23,
   "id": "worse-basket",
   "metadata": {},
   "outputs": [
    {
     "name": "stderr",
     "output_type": "stream",
     "text": [
      "C:\\Users\\ESUSORK\\PycharmProjects\\Kripto\\venv\\lib\\site-packages\\scipy\\stats\\stats.py:1604: UserWarning: kurtosistest only valid for n>=20 ... continuing anyway, n=16\n",
      "  \"anyway, n=%i\" % int(n))\n"
     ]
    },
    {
     "data": {
      "text/html": [
       "<table class=\"simpletable\">\n",
       "<caption>OLS Regression Results</caption>\n",
       "<tr>\n",
       "  <th>Dep. Variable:</th>      <td>ComputerSales</td>  <th>  R-squared (uncentered):</th>      <td>   0.929</td>\n",
       "</tr>\n",
       "<tr>\n",
       "  <th>Model:</th>                   <td>OLS</td>       <th>  Adj. R-squared (uncentered):</th> <td>   0.897</td>\n",
       "</tr>\n",
       "<tr>\n",
       "  <th>Method:</th>             <td>Least Squares</td>  <th>  F-statistic:       </th>          <td>   28.91</td>\n",
       "</tr>\n",
       "<tr>\n",
       "  <th>Date:</th>             <td>Mon, 22 Mar 2021</td> <th>  Prob (F-statistic):</th>          <td>5.64e-06</td>\n",
       "</tr>\n",
       "<tr>\n",
       "  <th>Time:</th>                 <td>21:07:43</td>     <th>  Log-Likelihood:    </th>          <td> -128.87</td>\n",
       "</tr>\n",
       "<tr>\n",
       "  <th>No. Observations:</th>      <td>    16</td>      <th>  AIC:               </th>          <td>   267.7</td>\n",
       "</tr>\n",
       "<tr>\n",
       "  <th>Df Residuals:</th>          <td>    11</td>      <th>  BIC:               </th>          <td>   271.6</td>\n",
       "</tr>\n",
       "<tr>\n",
       "  <th>Df Model:</th>              <td>     5</td>      <th>                     </th>              <td> </td>   \n",
       "</tr>\n",
       "<tr>\n",
       "  <th>Covariance Type:</th>      <td>nonrobust</td>    <th>                     </th>              <td> </td>   \n",
       "</tr>\n",
       "</table>\n",
       "<table class=\"simpletable\">\n",
       "<tr>\n",
       "          <td></td>             <th>coef</th>     <th>std err</th>      <th>t</th>      <th>P>|t|</th>  <th>[0.025</th>    <th>0.975]</th>  \n",
       "</tr>\n",
       "<tr>\n",
       "  <th>Population</th>        <td>   65.3191</td> <td>   10.608</td> <td>    6.158</td> <td> 0.000</td> <td>   41.972</td> <td>   88.666</td>\n",
       "</tr>\n",
       "<tr>\n",
       "  <th>GDPperHead</th>        <td>   27.7346</td> <td>   18.211</td> <td>    1.523</td> <td> 0.156</td> <td>  -12.348</td> <td>   67.818</td>\n",
       "</tr>\n",
       "<tr>\n",
       "  <th>UnemploymentRate</th>  <td>   39.5751</td> <td>   72.802</td> <td>    0.544</td> <td> 0.598</td> <td> -120.662</td> <td>  199.812</td>\n",
       "</tr>\n",
       "<tr>\n",
       "  <th>EducationSpending</th> <td> -238.0913</td> <td>  166.813</td> <td>   -1.427</td> <td> 0.181</td> <td> -605.244</td> <td>  129.061</td>\n",
       "</tr>\n",
       "<tr>\n",
       "  <th>SalesPerCapita</th>    <td>    4.1640</td> <td>    4.010</td> <td>    1.039</td> <td> 0.321</td> <td>   -4.661</td> <td>   12.989</td>\n",
       "</tr>\n",
       "</table>\n",
       "<table class=\"simpletable\">\n",
       "<tr>\n",
       "  <th>Omnibus:</th>       <td> 3.124</td> <th>  Durbin-Watson:     </th> <td>   2.270</td>\n",
       "</tr>\n",
       "<tr>\n",
       "  <th>Prob(Omnibus):</th> <td> 0.210</td> <th>  Jarque-Bera (JB):  </th> <td>   1.321</td>\n",
       "</tr>\n",
       "<tr>\n",
       "  <th>Skew:</th>          <td>-0.659</td> <th>  Prob(JB):          </th> <td>   0.516</td>\n",
       "</tr>\n",
       "<tr>\n",
       "  <th>Kurtosis:</th>      <td> 3.497</td> <th>  Cond. No.          </th> <td>    114.</td>\n",
       "</tr>\n",
       "</table><br/><br/>Notes:<br/>[1] R² is computed without centering (uncentered) since the model does not contain a constant.<br/>[2] Standard Errors assume that the covariance matrix of the errors is correctly specified."
      ],
      "text/plain": [
       "<class 'statsmodels.iolib.summary.Summary'>\n",
       "\"\"\"\n",
       "                                 OLS Regression Results                                \n",
       "=======================================================================================\n",
       "Dep. Variable:          ComputerSales   R-squared (uncentered):                   0.929\n",
       "Model:                            OLS   Adj. R-squared (uncentered):              0.897\n",
       "Method:                 Least Squares   F-statistic:                              28.91\n",
       "Date:                Mon, 22 Mar 2021   Prob (F-statistic):                    5.64e-06\n",
       "Time:                        21:07:43   Log-Likelihood:                         -128.87\n",
       "No. Observations:                  16   AIC:                                      267.7\n",
       "Df Residuals:                      11   BIC:                                      271.6\n",
       "Df Model:                           5                                                  \n",
       "Covariance Type:            nonrobust                                                  \n",
       "=====================================================================================\n",
       "                        coef    std err          t      P>|t|      [0.025      0.975]\n",
       "-------------------------------------------------------------------------------------\n",
       "Population           65.3191     10.608      6.158      0.000      41.972      88.666\n",
       "GDPperHead           27.7346     18.211      1.523      0.156     -12.348      67.818\n",
       "UnemploymentRate     39.5751     72.802      0.544      0.598    -120.662     199.812\n",
       "EducationSpending  -238.0913    166.813     -1.427      0.181    -605.244     129.061\n",
       "SalesPerCapita        4.1640      4.010      1.039      0.321      -4.661      12.989\n",
       "==============================================================================\n",
       "Omnibus:                        3.124   Durbin-Watson:                   2.270\n",
       "Prob(Omnibus):                  0.210   Jarque-Bera (JB):                1.321\n",
       "Skew:                          -0.659   Prob(JB):                        0.516\n",
       "Kurtosis:                       3.497   Cond. No.                         114.\n",
       "==============================================================================\n",
       "\n",
       "Notes:\n",
       "[1] R² is computed without centering (uncentered) since the model does not contain a constant.\n",
       "[2] Standard Errors assume that the covariance matrix of the errors is correctly specified.\n",
       "\"\"\""
      ]
     },
     "execution_count": 23,
     "metadata": {},
     "output_type": "execute_result"
    }
   ],
   "source": [
    "# Second case which we just create a model with all columns\n",
    "\n",
    "X_train, X_test, y_train, y_test = train_test_split(X_complete, y, test_size=0.20, random_state=0)\n",
    "\n",
    "linear_model_complete = sm.OLS(y_train, X_train).fit()\n",
    "\n",
    "linear_model_complete.summary()"
   ]
  },
  {
   "cell_type": "code",
   "execution_count": 24,
   "id": "reflected-compatibility",
   "metadata": {},
   "outputs": [
    {
     "name": "stdout",
     "output_type": "stream",
     "text": [
      "rmse_correlated_for_computer_sales: 2239.5572909880893\n"
     ]
    }
   ],
   "source": [
    "y_pred_complete = linear_model_complete.predict(X_test)\n",
    "\n",
    "rmse_complete = np.sqrt(((y_pred_complete - y_test) ** 2).mean())\n",
    "\n",
    "print('rmse_correlated_for_computer_sales: ' + str(rmse_complete))"
   ]
  },
  {
   "cell_type": "code",
   "execution_count": 25,
   "id": "cloudy-flashing",
   "metadata": {},
   "outputs": [],
   "source": [
    "# As result, again complete result still has lower error, but results are very similar."
   ]
  },
  {
   "cell_type": "code",
   "execution_count": null,
   "id": "secondary-inspector",
   "metadata": {},
   "outputs": [],
   "source": []
  }
 ],
 "metadata": {
  "kernelspec": {
   "display_name": "Python 3",
   "language": "python",
   "name": "python3"
  },
  "language_info": {
   "codemirror_mode": {
    "name": "ipython",
    "version": 3
   },
   "file_extension": ".py",
   "mimetype": "text/x-python",
   "name": "python",
   "nbconvert_exporter": "python",
   "pygments_lexer": "ipython3",
   "version": "3.7.9"
  }
 },
 "nbformat": 4,
 "nbformat_minor": 5
}
